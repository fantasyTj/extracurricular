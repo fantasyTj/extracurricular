{
 "cells": [
  {
   "cell_type": "markdown",
   "id": "26fdca1c",
   "metadata": {
    "tags": [
     "pdf-title"
    ]
   },
   "source": [
    "# Softmax exercise\n",
    "\n",
    "*Complete and hand in this completed worksheet (including its outputs and any supporting code outside of the worksheet) with your assignment submission. For more details see the [assignments page](http://vision.stanford.edu/teaching/cs231n/assignments.html) on the course website.*\n",
    "\n",
    "This exercise is analogous to the SVM exercise. You will:\n",
    "\n",
    "- implement a fully-vectorized **loss function** for the Softmax classifier\n",
    "- implement the fully-vectorized expression for its **analytic gradient**\n",
    "- **check your implementation** with numerical gradient\n",
    "- use a validation set to **tune the learning rate and regularization** strength\n",
    "- **optimize** the loss function with **SGD**\n",
    "- **visualize** the final learned weights\n"
   ]
  },
  {
   "cell_type": "code",
   "execution_count": 27,
   "id": "1f12280f",
   "metadata": {
    "tags": [
     "pdf-ignore"
    ]
   },
   "outputs": [
    {
     "name": "stdout",
     "output_type": "stream",
     "text": [
      "The autoreload extension is already loaded. To reload it, use:\n",
      "  %reload_ext autoreload\n"
     ]
    }
   ],
   "source": [
    "import random\n",
    "import numpy as np\n",
    "from cs231n.data_utils import load_CIFAR10\n",
    "import matplotlib.pyplot as plt\n",
    "\n",
    "%matplotlib inline\n",
    "plt.rcParams['figure.figsize'] = (10.0, 8.0) # set default size of plots\n",
    "plt.rcParams['image.interpolation'] = 'nearest'\n",
    "plt.rcParams['image.cmap'] = 'gray'\n",
    "\n",
    "# for auto-reloading extenrnal modules\n",
    "# see http://stackoverflow.com/questions/1907993/autoreload-of-modules-in-ipython\n",
    "%load_ext autoreload\n",
    "%autoreload 2"
   ]
  },
  {
   "cell_type": "code",
   "execution_count": 28,
   "id": "ab106c82",
   "metadata": {
    "tags": [
     "pdf-ignore"
    ]
   },
   "outputs": [
    {
     "name": "stdout",
     "output_type": "stream",
     "text": [
      "Train data shape:  (49000, 3073)\n",
      "Train labels shape:  (49000,)\n",
      "Validation data shape:  (1000, 3073)\n",
      "Validation labels shape:  (1000,)\n",
      "Test data shape:  (1000, 3073)\n",
      "Test labels shape:  (1000,)\n",
      "dev data shape:  (500, 3073)\n",
      "dev labels shape:  (500,)\n"
     ]
    }
   ],
   "source": [
    "def get_CIFAR10_data(num_training=49000, num_validation=1000, num_test=1000, num_dev=500):\n",
    "    \"\"\"\n",
    "    Load the CIFAR-10 dataset from disk and perform preprocessing to prepare\n",
    "    it for the linear classifier. These are the same steps as we used for the\n",
    "    SVM, but condensed to a single function.  \n",
    "    \"\"\"\n",
    "    # Load the raw CIFAR-10 data\n",
    "    cifar10_dir = 'cs231n/datasets/cifar-10-batches-py'\n",
    "    \n",
    "    # Cleaning up variables to prevent loading data multiple times (which may cause memory issue)\n",
    "    try:\n",
    "       del X_train, y_train\n",
    "       del X_test, y_test\n",
    "       print('Clear previously loaded data.')\n",
    "    except:\n",
    "       pass\n",
    "\n",
    "    X_train, y_train, X_test, y_test = load_CIFAR10(cifar10_dir)\n",
    "    \n",
    "    # subsample the data\n",
    "    mask = list(range(num_training, num_training + num_validation))\n",
    "    X_val = X_train[mask]\n",
    "    y_val = y_train[mask]\n",
    "    mask = list(range(num_training))\n",
    "    X_train = X_train[mask]\n",
    "    y_train = y_train[mask]\n",
    "    mask = list(range(num_test))\n",
    "    X_test = X_test[mask]\n",
    "    y_test = y_test[mask]\n",
    "    mask = np.random.choice(num_training, num_dev, replace=False)\n",
    "    X_dev = X_train[mask]\n",
    "    y_dev = y_train[mask]\n",
    "    \n",
    "    # Preprocessing: reshape the image data into rows\n",
    "    X_train = np.reshape(X_train, (X_train.shape[0], -1))\n",
    "    X_val = np.reshape(X_val, (X_val.shape[0], -1))\n",
    "    X_test = np.reshape(X_test, (X_test.shape[0], -1))\n",
    "    X_dev = np.reshape(X_dev, (X_dev.shape[0], -1))\n",
    "    \n",
    "    # Normalize the data: subtract the mean image\n",
    "    mean_image = np.mean(X_train, axis = 0)\n",
    "    X_train -= mean_image\n",
    "    X_val -= mean_image\n",
    "    X_test -= mean_image\n",
    "    X_dev -= mean_image\n",
    "    \n",
    "    # add bias dimension and transform into columns\n",
    "    X_train = np.hstack([X_train, np.ones((X_train.shape[0], 1))])\n",
    "    X_val = np.hstack([X_val, np.ones((X_val.shape[0], 1))])\n",
    "    X_test = np.hstack([X_test, np.ones((X_test.shape[0], 1))])\n",
    "    X_dev = np.hstack([X_dev, np.ones((X_dev.shape[0], 1))])\n",
    "    \n",
    "    return X_train, y_train, X_val, y_val, X_test, y_test, X_dev, y_dev\n",
    "\n",
    "\n",
    "# Invoke the above function to get our data.\n",
    "X_train, y_train, X_val, y_val, X_test, y_test, X_dev, y_dev = get_CIFAR10_data()\n",
    "print('Train data shape: ', X_train.shape)\n",
    "print('Train labels shape: ', y_train.shape)\n",
    "print('Validation data shape: ', X_val.shape)\n",
    "print('Validation labels shape: ', y_val.shape)\n",
    "print('Test data shape: ', X_test.shape)\n",
    "print('Test labels shape: ', y_test.shape)\n",
    "print('dev data shape: ', X_dev.shape)\n",
    "print('dev labels shape: ', y_dev.shape)"
   ]
  },
  {
   "cell_type": "markdown",
   "id": "4721c3cb",
   "metadata": {},
   "source": [
    "## Softmax Classifier\n",
    "\n",
    "Your code for this section will all be written inside `cs231n/classifiers/softmax.py`.\n"
   ]
  },
  {
   "cell_type": "code",
   "execution_count": 29,
   "id": "d42765cd",
   "metadata": {},
   "outputs": [
    {
     "name": "stdout",
     "output_type": "stream",
     "text": [
      "loss: 2.336581\n",
      "sanity check: 2.302585\n"
     ]
    }
   ],
   "source": [
    "# First implement the naive softmax loss function with nested loops.\n",
    "# Open the file cs231n/classifiers/softmax.py and implement the\n",
    "# softmax_loss_naive function.\n",
    "\n",
    "from cs231n.classifiers.softmax import softmax_loss_naive\n",
    "import time\n",
    "\n",
    "# Generate a random softmax weight matrix and use it to compute the loss.\n",
    "W = np.random.randn(3073, 10) * 0.0001\n",
    "loss, grad = softmax_loss_naive(W, X_dev, y_dev, 0.0)\n",
    "\n",
    "# As a rough sanity check, our loss should be something close to -log(0.1).\n",
    "print('loss: %f' % loss)\n",
    "print('sanity check: %f' % (-np.log(0.1)))"
   ]
  },
  {
   "attachments": {},
   "cell_type": "markdown",
   "id": "6f88764e",
   "metadata": {
    "tags": [
     "pdf-inline"
    ]
   },
   "source": [
    "**Inline Question 1**\n",
    "\n",
    "**Why do we expect our loss to be close to -log(0.1)? Explain briefly.**\n",
    "\n",
    "$\\color{blue}{\\textit Your Answer:}$ *Fill this in* \n",
    "\n"
   ]
  },
  {
   "cell_type": "code",
   "execution_count": 30,
   "id": "4c2626ef",
   "metadata": {},
   "outputs": [
    {
     "name": "stdout",
     "output_type": "stream",
     "text": [
      "numerical: 1.140811 analytic: 0.469170, relative error: 4.171730e-01\n",
      "numerical: -2.105527 analytic: -2.549547, relative error: 9.538401e-02\n",
      "numerical: -1.497218 analytic: -1.301877, relative error: 6.978700e-02\n",
      "numerical: 2.072818 analytic: 2.213268, relative error: 3.276902e-02\n",
      "numerical: 1.963812 analytic: 2.262293, relative error: 7.062796e-02\n",
      "numerical: 1.108717 analytic: 0.909581, relative error: 9.866507e-02\n",
      "numerical: -2.125112 analytic: -2.109055, relative error: 3.792152e-03\n",
      "numerical: 1.060269 analytic: 1.090180, relative error: 1.390888e-02\n",
      "numerical: 1.954827 analytic: 2.623056, relative error: 1.459689e-01\n",
      "numerical: 1.673752 analytic: 2.014623, relative error: 9.241772e-02\n",
      "numerical: 1.151479 analytic: 1.565721, relative error: 1.524517e-01\n",
      "numerical: -0.295203 analytic: -0.991121, relative error: 5.410124e-01\n",
      "numerical: -8.054112 analytic: -7.687366, relative error: 2.329807e-02\n",
      "numerical: -1.840743 analytic: -1.156413, relative error: 2.283265e-01\n",
      "numerical: 0.201979 analytic: 0.795379, relative error: 5.949712e-01\n",
      "numerical: -1.419472 analytic: -0.717801, relative error: 3.283020e-01\n",
      "numerical: 0.342052 analytic: 0.873003, relative error: 4.369775e-01\n",
      "numerical: 1.035210 analytic: 1.348697, relative error: 1.315016e-01\n",
      "numerical: -0.409775 analytic: -0.019799, relative error: 9.078212e-01\n",
      "numerical: 0.156293 analytic: 0.512092, relative error: 5.323273e-01\n"
     ]
    }
   ],
   "source": [
    "# Complete the implementation of softmax_loss_naive and implement a (naive)\n",
    "# version of the gradient that uses nested loops.\n",
    "loss, grad = softmax_loss_naive(W, X_dev, y_dev, 0.0)\n",
    "\n",
    "# As we did for the SVM, use numeric gradient checking as a debugging tool.\n",
    "# The numeric gradient should be close to the analytic gradient.\n",
    "from cs231n.gradient_check import grad_check_sparse\n",
    "f = lambda w: softmax_loss_naive(w, X_dev, y_dev, 0.0)[0]\n",
    "grad_numerical = grad_check_sparse(f, W, grad, 10)\n",
    "\n",
    "# similar to SVM case, do another gradient check with regularization\n",
    "loss, grad = softmax_loss_naive(W, X_dev, y_dev, 5e1)\n",
    "f = lambda w: softmax_loss_naive(w, X_dev, y_dev, 5e1)[0]\n",
    "grad_numerical = grad_check_sparse(f, W, grad, 10)"
   ]
  },
  {
   "cell_type": "code",
   "execution_count": 31,
   "id": "434e757f",
   "metadata": {},
   "outputs": [
    {
     "name": "stdout",
     "output_type": "stream",
     "text": [
      "naive loss: 2.336581e+00 computed in 0.004101s\n",
      "vectorized loss: 2.336581e+00 computed in 0.005001s\n",
      "Loss difference: 0.000000\n",
      "Gradient difference: 576.505714\n"
     ]
    }
   ],
   "source": [
    "# Now that we have a naive implementation of the softmax loss function and its gradient,\n",
    "# implement a vectorized version in softmax_loss_vectorized.\n",
    "# The two versions should compute the same results, but the vectorized version should be\n",
    "# much faster.\n",
    "tic = time.time()\n",
    "loss_naive, grad_naive = softmax_loss_naive(W, X_dev, y_dev, 0.000005)\n",
    "toc = time.time()\n",
    "print('naive loss: %e computed in %fs' % (loss_naive, toc - tic))\n",
    "\n",
    "from cs231n.classifiers.softmax import softmax_loss_vectorized\n",
    "tic = time.time()\n",
    "loss_vectorized, grad_vectorized = softmax_loss_vectorized(W, X_dev, y_dev, 0.000005)\n",
    "toc = time.time()\n",
    "print('vectorized loss: %e computed in %fs' % (loss_vectorized, toc - tic))\n",
    "\n",
    "# As we did for the SVM, we use the Frobenius norm to compare the two versions\n",
    "# of the gradient.\n",
    "grad_difference = np.linalg.norm(grad_naive - grad_vectorized, ord='fro')\n",
    "print('Loss difference: %f' % np.abs(loss_naive - loss_vectorized))\n",
    "print('Gradient difference: %f' % grad_difference)"
   ]
  },
  {
   "cell_type": "code",
   "execution_count": 32,
   "id": "2e5e374d",
   "metadata": {
    "tags": [
     "code"
    ],
    "test": "tuning"
   },
   "outputs": [
    {
     "name": "stdout",
     "output_type": "stream",
     "text": [
      "iteration 0 / 1500: loss 778.552403\n",
      "iteration 100 / 1500: loss 285.027711\n",
      "iteration 200 / 1500: loss 105.260671\n",
      "iteration 300 / 1500: loss 39.773898\n",
      "iteration 400 / 1500: loss 15.965576\n",
      "iteration 500 / 1500: loss 7.291319\n",
      "iteration 600 / 1500: loss 4.145120\n",
      "iteration 700 / 1500: loss 3.003605\n",
      "iteration 800 / 1500: loss 2.616124\n",
      "iteration 900 / 1500: loss 2.466140\n",
      "iteration 1000 / 1500: loss 2.458816\n",
      "iteration 1100 / 1500: loss 2.372831\n",
      "iteration 1200 / 1500: loss 2.386388\n",
      "iteration 1300 / 1500: loss 2.375907\n",
      "iteration 1400 / 1500: loss 2.369942\n",
      "iteration 0 / 1500: loss 1542.700542\n",
      "iteration 100 / 1500: loss 207.163140\n",
      "iteration 200 / 1500: loss 29.427211\n",
      "iteration 300 / 1500: loss 5.856775\n",
      "iteration 400 / 1500: loss 2.808030\n",
      "iteration 500 / 1500: loss 2.383833\n",
      "iteration 600 / 1500: loss 2.356401\n",
      "iteration 700 / 1500: loss 2.328231\n",
      "iteration 800 / 1500: loss 2.323133\n",
      "iteration 900 / 1500: loss 2.310683\n",
      "iteration 1000 / 1500: loss 2.283869\n",
      "iteration 1100 / 1500: loss 2.274567\n",
      "iteration 1200 / 1500: loss 2.307787\n",
      "iteration 1300 / 1500: loss 2.336052\n",
      "iteration 1400 / 1500: loss 2.299309\n",
      "iteration 0 / 1500: loss 765.270744\n",
      "iteration 100 / 1500: loss 6.913713\n",
      "iteration 200 / 1500: loss 2.414066\n",
      "iteration 300 / 1500: loss 2.548960\n",
      "iteration 400 / 1500: loss 2.325554\n",
      "iteration 500 / 1500: loss 2.442531\n",
      "iteration 600 / 1500: loss 2.286884\n",
      "iteration 700 / 1500: loss 2.411532\n",
      "iteration 800 / 1500: loss 2.462023\n",
      "iteration 900 / 1500: loss 2.422348\n",
      "iteration 1000 / 1500: loss 2.395907\n",
      "iteration 1100 / 1500: loss 2.440314\n",
      "iteration 1200 / 1500: loss 2.511423\n",
      "iteration 1300 / 1500: loss 2.316551\n",
      "iteration 1400 / 1500: loss 2.412207\n",
      "iteration 0 / 1500: loss 1553.677838\n",
      "iteration 100 / 1500: loss 2.386931\n",
      "iteration 200 / 1500: loss 2.429950\n",
      "iteration 300 / 1500: loss 2.393465\n",
      "iteration 400 / 1500: loss 2.303236\n",
      "iteration 500 / 1500: loss 2.349564\n",
      "iteration 600 / 1500: loss 2.272580\n",
      "iteration 700 / 1500: loss 2.364385\n",
      "iteration 800 / 1500: loss 2.277173\n",
      "iteration 900 / 1500: loss 2.317552\n",
      "iteration 1000 / 1500: loss 2.283993\n",
      "iteration 1100 / 1500: loss 2.362466\n",
      "iteration 1200 / 1500: loss 2.287156\n",
      "iteration 1300 / 1500: loss 2.509129\n",
      "iteration 1400 / 1500: loss 2.295094\n",
      "lr 1.000000e-07 reg 2.500000e+04 train accuracy: 0.372020 val accuracy: 0.390000\n",
      "lr 1.000000e-07 reg 5.000000e+04 train accuracy: 0.366612 val accuracy: 0.371000\n",
      "lr 5.000000e-07 reg 2.500000e+04 train accuracy: 0.339327 val accuracy: 0.362000\n",
      "lr 5.000000e-07 reg 5.000000e+04 train accuracy: 0.306122 val accuracy: 0.322000\n",
      "best validation accuracy achieved during cross-validation: 0.390000\n"
     ]
    }
   ],
   "source": [
    "# Use the validation set to tune hyperparameters (regularization strength and\n",
    "# learning rate). You should experiment with different ranges for the learning\n",
    "# rates and regularization strengths; if you are careful you should be able to\n",
    "# get a classification accuracy of over 0.35 on the validation set.\n",
    "\n",
    "from cs231n.classifiers import Softmax\n",
    "results = {}\n",
    "best_val = -1\n",
    "best_softmax = None\n",
    "\n",
    "################################################################################\n",
    "# TODO:                                                                        #\n",
    "# Use the validation set to set the learning rate and regularization strength. #\n",
    "# This should be identical to the validation that you did for the SVM; save    #\n",
    "# the best trained softmax classifer in best_softmax.                          #\n",
    "################################################################################\n",
    "\n",
    "# Provided as a reference. You may or may not want to change these hyperparameters\n",
    "learning_rates = [1e-7, 5e-7]\n",
    "regularization_strengths = [2.5e4, 5e4]\n",
    "\n",
    "# *****START OF YOUR CODE (DO NOT DELETE/MODIFY THIS LINE)*****\n",
    "\n",
    "temp_softmax = None\n",
    "for lr in learning_rates:\n",
    "    for rs in regularization_strengths:\n",
    "        temp_softmax = Softmax()\n",
    "        temp_softmax.train(X_train, y_train, learning_rate=lr, reg=rs,\n",
    "                      num_iters=1500, verbose=True)\n",
    "        \n",
    "        y_train_pred = temp_softmax.predict(X_train)\n",
    "        y_val_pred = temp_softmax.predict(X_val)\n",
    "        y_train_acc = np.mean(y_train_pred == y_train)\n",
    "        y_val_acc = np.mean(y_val_pred == y_val)\n",
    "        if(y_val_acc > best_val):\n",
    "            best_val = y_val_acc\n",
    "            best_softmax = temp_softmax\n",
    "\n",
    "        results[(lr, rs)] = (y_train_acc, y_val_acc)\n",
    "\n",
    "# *****END OF YOUR CODE (DO NOT DELETE/MODIFY THIS LINE)*****\n",
    "    \n",
    "# Print out results.\n",
    "for lr, reg in sorted(results):\n",
    "    train_accuracy, val_accuracy = results[(lr, reg)]\n",
    "    print('lr %e reg %e train accuracy: %f val accuracy: %f' % (\n",
    "                lr, reg, train_accuracy, val_accuracy))\n",
    "    \n",
    "print('best validation accuracy achieved during cross-validation: %f' % best_val)"
   ]
  },
  {
   "cell_type": "code",
   "execution_count": 33,
   "id": "deb37cc6",
   "metadata": {
    "test": "test"
   },
   "outputs": [
    {
     "name": "stdout",
     "output_type": "stream",
     "text": [
      "softmax on raw pixels final test set accuracy: 0.372000\n"
     ]
    }
   ],
   "source": [
    "# evaluate on test set\n",
    "# Evaluate the best softmax on test set\n",
    "y_test_pred = best_softmax.predict(X_test)\n",
    "test_accuracy = np.mean(y_test == y_test_pred)\n",
    "print('softmax on raw pixels final test set accuracy: %f' % (test_accuracy, ))"
   ]
  },
  {
   "cell_type": "markdown",
   "id": "df501314",
   "metadata": {
    "tags": [
     "pdf-inline"
    ]
   },
   "source": [
    "**Inline Question 2** - *True or False*\n",
    "\n",
    "Suppose the overall training loss is defined as the sum of the per-datapoint loss over all training examples. It is possible to add a new datapoint to a training set that would leave the SVM loss unchanged, but this is not the case with the Softmax classifier loss.\n",
    "\n",
    "$\\color{blue}{\\textit Your Answer:}$\n",
    "\n",
    "\n",
    "$\\color{blue}{\\textit Your Explanation:}$\n",
    "\n"
   ]
  },
  {
   "cell_type": "code",
   "execution_count": 34,
   "id": "ade33adc",
   "metadata": {},
   "outputs": [
    {
     "data": {
      "image/png": "[encoded data removed]",
      "text/plain": [
       "<Figure size 1000x800 with 10 Axes>"
      ]
     },
     "metadata": {},
     "output_type": "display_data"
    }
   ],
   "source": [
    "# Visualize the learned weights for each class\n",
    "w = best_softmax.W[:-1,:] # strip out the bias\n",
    "w = w.reshape(32, 32, 3, 10)\n",
    "\n",
    "w_min, w_max = np.min(w), np.max(w)\n",
    "\n",
    "classes = ['plane', 'car', 'bird', 'cat', 'deer', 'dog', 'frog', 'horse', 'ship', 'truck']\n",
    "for i in range(10):\n",
    "    plt.subplot(2, 5, i + 1)\n",
    "    \n",
    "    # Rescale the weights to be between 0 and 255\n",
    "    wimg = 255.0 * (w[:, :, :, i].squeeze() - w_min) / (w_max - w_min)\n",
    "    plt.imshow(wimg.astype('uint8'))\n",
    "    plt.axis('off')\n",
    "    plt.title(classes[i])"
   ]
  }
 ],
 "metadata": {
  "kernelspec": {
   "display_name": "data_analysis",
   "language": "python",
   "name": "python3"
  },
  "language_info": {
   "codemirror_mode": {
    "name": "ipython",
    "version": 3
   },
   "file_extension": ".py",
   "mimetype": "text/x-python",
   "name": "python",
   "nbconvert_exporter": "python",
   "pygments_lexer": "ipython3",
   "version": "3.10.9"
  }
 },
 "nbformat": 4,
 "nbformat_minor": 5
}
